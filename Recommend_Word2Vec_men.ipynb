{
 "cells": [
  {
   "cell_type": "code",
   "execution_count": 1,
   "metadata": {},
   "outputs": [],
   "source": [
    "import pandas as pd\n",
    "import numpy as np\n",
    "import random\n",
    "from tqdm import tqdm\n",
    "from gensim.models import Word2Vec \n",
    "import matplotlib.pyplot as plt\n",
    "%matplotlib inline\n",
    "\n",
    "import warnings;\n",
    "warnings.filterwarnings('ignore')"
   ]
  },
  {
   "cell_type": "code",
   "execution_count": 2,
   "metadata": {},
   "outputs": [],
   "source": [
    "df = pd.read_csv('./wear_TOP100_men.csv')"
   ]
  },
  {
   "cell_type": "code",
   "execution_count": 3,
   "metadata": {},
   "outputs": [
    {
     "data": {
      "text/html": [
       "<div>\n",
       "<style scoped>\n",
       "    .dataframe tbody tr th:only-of-type {\n",
       "        vertical-align: middle;\n",
       "    }\n",
       "\n",
       "    .dataframe tbody tr th {\n",
       "        vertical-align: top;\n",
       "    }\n",
       "\n",
       "    .dataframe thead th {\n",
       "        text-align: right;\n",
       "    }\n",
       "</style>\n",
       "<table border=\"1\" class=\"dataframe\">\n",
       "  <thead>\n",
       "    <tr style=\"text-align: right;\">\n",
       "      <th></th>\n",
       "      <th>Unnamed: 0</th>\n",
       "      <th>user_ID</th>\n",
       "      <th>user_Fans</th>\n",
       "      <th>outfit_ID</th>\n",
       "      <th>outfit_Url</th>\n",
       "      <th>outfit_Like</th>\n",
       "      <th>outfit_Like_adjust</th>\n",
       "      <th>outfit_Update</th>\n",
       "      <th>outfit_Season</th>\n",
       "      <th>color</th>\n",
       "      <th>outfit_Bodypart</th>\n",
       "      <th>outfit_Itemgroup</th>\n",
       "      <th>outfit_Item</th>\n",
       "    </tr>\n",
       "  </thead>\n",
       "  <tbody>\n",
       "    <tr>\n",
       "      <th>0</th>\n",
       "      <td>0</td>\n",
       "      <td>genji</td>\n",
       "      <td>773507</td>\n",
       "      <td>18416506</td>\n",
       "      <td>https://wear.tw/genji/18416506/</td>\n",
       "      <td>446</td>\n",
       "      <td>446.0</td>\n",
       "      <td>2021-01-09</td>\n",
       "      <td>winter</td>\n",
       "      <td>黑色</td>\n",
       "      <td>outerwear</td>\n",
       "      <td>夾克／外套</td>\n",
       "      <td>黑色西裝大衣</td>\n",
       "    </tr>\n",
       "    <tr>\n",
       "      <th>1</th>\n",
       "      <td>1</td>\n",
       "      <td>genji</td>\n",
       "      <td>773507</td>\n",
       "      <td>18416506</td>\n",
       "      <td>https://wear.tw/genji/18416506/</td>\n",
       "      <td>446</td>\n",
       "      <td>446.0</td>\n",
       "      <td>2021-01-09</td>\n",
       "      <td>winter</td>\n",
       "      <td>白色</td>\n",
       "      <td>top</td>\n",
       "      <td>上衣</td>\n",
       "      <td>白色T恤</td>\n",
       "    </tr>\n",
       "    <tr>\n",
       "      <th>2</th>\n",
       "      <td>2</td>\n",
       "      <td>genji</td>\n",
       "      <td>773507</td>\n",
       "      <td>18416506</td>\n",
       "      <td>https://wear.tw/genji/18416506/</td>\n",
       "      <td>446</td>\n",
       "      <td>446.0</td>\n",
       "      <td>2021-01-09</td>\n",
       "      <td>winter</td>\n",
       "      <td>棕色</td>\n",
       "      <td>top</td>\n",
       "      <td>上衣</td>\n",
       "      <td>棕色針織衫</td>\n",
       "    </tr>\n",
       "    <tr>\n",
       "      <th>3</th>\n",
       "      <td>3</td>\n",
       "      <td>genji</td>\n",
       "      <td>773507</td>\n",
       "      <td>18416506</td>\n",
       "      <td>https://wear.tw/genji/18416506/</td>\n",
       "      <td>446</td>\n",
       "      <td>446.0</td>\n",
       "      <td>2021-01-09</td>\n",
       "      <td>winter</td>\n",
       "      <td>黑色</td>\n",
       "      <td>buttom</td>\n",
       "      <td>褲子</td>\n",
       "      <td>黑色西裝休閒褲</td>\n",
       "    </tr>\n",
       "    <tr>\n",
       "      <th>4</th>\n",
       "      <td>4</td>\n",
       "      <td>genji</td>\n",
       "      <td>773507</td>\n",
       "      <td>18416506</td>\n",
       "      <td>https://wear.tw/genji/18416506/</td>\n",
       "      <td>446</td>\n",
       "      <td>446.0</td>\n",
       "      <td>2021-01-09</td>\n",
       "      <td>winter</td>\n",
       "      <td>銀色</td>\n",
       "      <td>acc</td>\n",
       "      <td>首飾</td>\n",
       "      <td>銀色耳環</td>\n",
       "    </tr>\n",
       "  </tbody>\n",
       "</table>\n",
       "</div>"
      ],
      "text/plain": [
       "   Unnamed: 0 user_ID  user_Fans  outfit_ID                       outfit_Url  \\\n",
       "0           0   genji     773507   18416506  https://wear.tw/genji/18416506/   \n",
       "1           1   genji     773507   18416506  https://wear.tw/genji/18416506/   \n",
       "2           2   genji     773507   18416506  https://wear.tw/genji/18416506/   \n",
       "3           3   genji     773507   18416506  https://wear.tw/genji/18416506/   \n",
       "4           4   genji     773507   18416506  https://wear.tw/genji/18416506/   \n",
       "\n",
       "   outfit_Like  outfit_Like_adjust outfit_Update outfit_Season color  \\\n",
       "0          446               446.0    2021-01-09        winter    黑色   \n",
       "1          446               446.0    2021-01-09        winter    白色   \n",
       "2          446               446.0    2021-01-09        winter    棕色   \n",
       "3          446               446.0    2021-01-09        winter    黑色   \n",
       "4          446               446.0    2021-01-09        winter    銀色   \n",
       "\n",
       "  outfit_Bodypart outfit_Itemgroup outfit_Item  \n",
       "0       outerwear            夾克／外套      黑色西裝大衣  \n",
       "1             top               上衣        白色T恤  \n",
       "2             top               上衣       棕色針織衫  \n",
       "3          buttom               褲子     黑色西裝休閒褲  \n",
       "4             acc               首飾        銀色耳環  "
      ]
     },
     "execution_count": 3,
     "metadata": {},
     "output_type": "execute_result"
    }
   ],
   "source": [
    "df.head()"
   ]
  },
  {
   "cell_type": "code",
   "execution_count": 4,
   "metadata": {},
   "outputs": [
    {
     "data": {
      "text/plain": [
       "(176154, 13)"
      ]
     },
     "execution_count": 4,
     "metadata": {},
     "output_type": "execute_result"
    }
   ],
   "source": [
    "df.shape"
   ]
  },
  {
   "cell_type": "code",
   "execution_count": 5,
   "metadata": {},
   "outputs": [
    {
     "data": {
      "text/plain": [
       "Unnamed: 0               0\n",
       "user_ID                  0\n",
       "user_Fans                0\n",
       "outfit_ID                0\n",
       "outfit_Url               0\n",
       "outfit_Like              0\n",
       "outfit_Like_adjust       0\n",
       "outfit_Update            0\n",
       "outfit_Season            0\n",
       "color                 4888\n",
       "outfit_Bodypart          0\n",
       "outfit_Itemgroup         0\n",
       "outfit_Item              0\n",
       "dtype: int64"
      ]
     },
     "execution_count": 5,
     "metadata": {},
     "output_type": "execute_result"
    }
   ],
   "source": [
    "#check null value\n",
    "df.isnull().sum()"
   ]
  },
  {
   "cell_type": "code",
   "execution_count": 6,
   "metadata": {},
   "outputs": [
    {
     "data": {
      "text/plain": [
       "Unnamed: 0            0\n",
       "user_ID               0\n",
       "user_Fans             0\n",
       "outfit_ID             0\n",
       "outfit_Url            0\n",
       "outfit_Like           0\n",
       "outfit_Like_adjust    0\n",
       "outfit_Update         0\n",
       "outfit_Season         0\n",
       "color                 0\n",
       "outfit_Bodypart       0\n",
       "outfit_Itemgroup      0\n",
       "outfit_Item           0\n",
       "dtype: int64"
      ]
     },
     "execution_count": 6,
     "metadata": {},
     "output_type": "execute_result"
    }
   ],
   "source": [
    "df.dropna(axis = 0, how ='any',inplace=True) \n",
    "df.isnull().sum()"
   ]
  },
  {
   "cell_type": "code",
   "execution_count": 7,
   "metadata": {},
   "outputs": [
    {
     "data": {
      "text/plain": [
       "(171266, 13)"
      ]
     },
     "execution_count": 7,
     "metadata": {},
     "output_type": "execute_result"
    }
   ],
   "source": [
    "df.shape"
   ]
  },
  {
   "cell_type": "code",
   "execution_count": 8,
   "metadata": {},
   "outputs": [
    {
     "data": {
      "text/plain": [
       "100"
      ]
     },
     "execution_count": 8,
     "metadata": {},
     "output_type": "execute_result"
    }
   ],
   "source": [
    "users = df[\"user_ID\"].unique().tolist()\n",
    "len(users)"
   ]
  },
  {
   "cell_type": "code",
   "execution_count": 9,
   "metadata": {},
   "outputs": [
    {
     "name": "stdout",
     "output_type": "stream",
     "text": [
      "['genji', 'hellokeisuk', 'nosukeeee0217', 'syun0809', 'sei0', 'murasakibaru', 'bandierak26', 'kosu813ke', 'takeuma45', 'ninnosuke', 'naruyuu', 'gionryo', 'cqn15bb', 'naaaasa', 'zizz', 'matsumotokoh', 'yukihiro1126', 'sensenakajima', 'massuhair', 'wear4981', 'taisei0405', 'yoshiojazzmaster', 'yyyyuuuma', 'taisei1022', 'flocondeneige', 'makisato', 'diego1225', 'matuni', 'mrszk', 'aadgjmptwp0aaad', 'yutaka07', 'ultrabra1n', 'naoshi704', '1keino', 'crewtiger', 'kaz0608', 'fankycom104', 'oicho', 'kaz2868', '111124', 'akiiiio04', 'tapoooo', 'slvrtetsuya', 'oyasumi73i', 'byunxbyun', 'leyline0629', 'vivacematsu', 'moyammk', 'trm0303', 'yugowear11', 'shima0331', 'ryohei1026', 'tkmyuw', '1998319', 'highflyace', 'attachmentstaff', 'yuhi2486', 'hide9002', 'wfymkn2410', 'fhcguufghh', 'bbbbb0514', 'yukiskuma', 'dimda210', 'tm9tm2tm7', '90u10', '1093tokusantv', 'masaki04260', 'naokimatsubara', 'wearyuuto46', 'jiinmy', '19901204', 'yasoyaso531', '32083215', 'motoharumori1211', 'takumi00bsk', 'lsp2015', 'itsuki1158', 'shishishino', 'motokiii', '97_tanaka', 'fukiharu0804', 'rh429', 'kose08', 'makearay20', 'hiraga0612', 'taku652002', 'senseseko28', 'aaxxxy2', 'howellmhl', 'mise2250', 'tom046sct', 'wamuikesma', 'kouhei01300', '50324', 'tadaaaaa0611', 'nozopon1004', 'matsuo0426', 'sekine0827', '1228masa', 'repopoo']\n"
     ]
    }
   ],
   "source": [
    "print(users)"
   ]
  },
  {
   "cell_type": "code",
   "execution_count": 10,
   "metadata": {},
   "outputs": [],
   "source": [
    "df['outfit_Item']= df['outfit_Item'].astype(str)"
   ]
  },
  {
   "cell_type": "code",
   "execution_count": 11,
   "metadata": {},
   "outputs": [],
   "source": [
    "#split data into train and validation dataset according to the upload dataset(history) for each model\n",
    "random.shuffle(users)\n",
    "users_train = [users[i] for i in range(round(0.8*len(users)))]\n",
    "train_df = df[df['user_ID'].isin(users_train)]\n",
    "validation_df = df[~df['user_ID'].isin(users_train)]"
   ]
  },
  {
   "cell_type": "code",
   "execution_count": 12,
   "metadata": {},
   "outputs": [
    {
     "name": "stderr",
     "output_type": "stream",
     "text": [
      "100%|██████████| 100/100 [00:02<00:00, 42.92it/s]"
     ]
    },
    {
     "name": "stdout",
     "output_type": "stream",
     "text": [
      "['白色針織衫', '灰色褲裝', '黑色靴子', '黑色夾克／外套', '黑色褲子', '黑色球鞋', '黑色褲子', '黑色靴子', '黑色褲子', '黑色鞋子', '黑色夾克／外套', '白色襯衫', '黑色褲子', '黑色鞋子', '黑色夾克／外套', '黑色針織衫', '黑色針織衫', '黑色褲子', '黑色鞋子', '黑色毛綫帽', '黑色夾克／外套', '棕色連帽外套', '黑色夾克／外套', '黑色褲子', '黑色球鞋', '黑色帽子', '黑色針織衫', '黑色外套', '黑色褲子', '黑色靴子', '灰色褲裝', '灰色外套', '白色針織衫', '黑色靴子', '棕色針織衫', '黑色夾克／外套', '米色褲裝', '黑色靴子', '白色針織衫', '黑色夾克／外套', '黑色褲子', '黑色靴子', '黑色褲子', '棕色針織衫', '藍色短外套', '黑色靴子', '白色針織衫', '黑色夾克／外套', '黑色褲子', '黑色靴子', '棕色針織衫', '白色襯衫', '藍色牛仔褲', '黑色球鞋', '黑色夾克／外套', '灰色外套', '灰色褲裝', '黑色球鞋', '黑色帽子', '黑色褲子', '黑色靴子', '黑色貝雷帽', '紅色針織衫', '黑色夾克／外套', '黑色褲子', '黑色靴子', '黑色夾克／外套', '棕色連帽外套', '米色褲裝', '黑色球鞋', '棕色針織衫', '黑色褲子', '黑色靴子', '黑色夾克／外套', '黑色針織衫', '黑色褲子', '黑色鞋子', '灰色針織衫', '黑色外套', '黑色褲子', '黑色靴子', '黑色褲子', '黑色球鞋', '黑色針織衫', '黑色夾克／外套', '白色針織衫', '藍色短外套', '黑色褲裝', '黑色球鞋', '紅色針織衫', '黑色褲子', '黑色靴子', '灰色針織衫', '灰色外套', '灰色褲裝', '黑色靴子', '黑色夾克／外套', '黑色褲子', '黑色鞋子', '白色針織衫', '棕色連帽外套', '黑色褲子', '黑色球鞋', '黑色夾克／外套', '黑色褲子', '黑色靴子', '黑色夾克／外套', '灰色針織衫', '藍色牛仔褲', '黑色靴子', '黑色褲子', '黑色針織衫', '黑色外套', '黑色靴子', '黑色夾克／外套', '黑色褲子', '黑色靴子', '黑色針織衫', '黑色夾克／外套', '黑色褲子', '黑色鞋子', '黑色褲子', '黑色鞋子', '灰色針織衫', '灰色外套', '灰色褲裝', '黑色鞋子', '黑色針織衫', '藍色牛仔褲', '黑色靴子', '黑色針織衫', '黑色褲子', '黑色鞋子', '黑色褲子', '黑色球鞋', '黑色外套', '黑色夾克／外套', '黑色褲裝', '黑色鞋子', '棕色連帽外套', '黑色褲子', '黑色鞋子', '黑色T恤', '黑色褲子', '黑色球鞋', '黑色帽子', '棕色連帽外套', '黑色褲子', '黑色靴子', '棕色連帽外套', '黑色夾克／外套', '黑色褲子', '黑色球鞋', '黑色帽子', '黑色外套', '黑色褲子', '黑色靴子', '黑色褲子', '黑色鞋子', '黑色夾克／外套', '黑色褲子', '黑色鞋子', '黑色褲子', '黑色鞋子', '棕色連帽外套', '黑色夾克／外套', '黑色帽子', '黑色球鞋', '黑色褲子', '藍色牛仔褲', '黑色鞋子', '棕色針織衫', '黑色外套', '白色襯衫', '黑色褲子', '黑色球鞋', '黑色外套', '黑色帽子', '黑色上衣', '黑色褲子', '黑色靴子', '白色襯衫', '藍色褲子', '藍色短外套', '黑色靴子']\n"
     ]
    },
    {
     "name": "stderr",
     "output_type": "stream",
     "text": [
      "\n"
     ]
    }
   ],
   "source": [
    "# list to capture upload history of the users\n",
    "upload_train = []\n",
    "for i in tqdm(users_train):\n",
    "    temp = train_df[train_df[\"user_ID\"] == i][\"outfit_Item\"].tolist()\n",
    "    upload_train.append(temp)\n",
    "\n",
    "print(upload_train[0])"
   ]
  },
  {
   "cell_type": "code",
   "execution_count": 13,
   "metadata": {},
   "outputs": [],
   "source": [
    "upload_val = []\n",
    "for i in tqdm(validation_df['user_ID'].unique()):\n",
    "    temp = validation_df[validation_df[\"user_ID\"] == i][\"outfit_Item\"].tolist()\n",
    "    upload_val.append(temp)"
   ]
  },
  {
   "cell_type": "code",
   "execution_count": 13,
   "metadata": {},
   "outputs": [
    {
     "data": {
      "text/plain": [
       "(983817, 1712660)"
      ]
     },
     "execution_count": 13,
     "metadata": {},
     "output_type": "execute_result"
    }
   ],
   "source": [
    "# train word2vec model\n",
    "model = Word2Vec(window = 2, sg = 1, hs = 0, #window=2\n",
    "                 negative = 10, # for negative sampling\n",
    "                 alpha=0.03, min_alpha=0.0007,\n",
    "                 seed = 14)\n",
    "\n",
    "model.build_vocab(upload_train, progress_per=200)\n",
    "\n",
    "model.train(upload_train, total_examples = model.corpus_count, \n",
    "            epochs=10, report_delay=1)"
   ]
  },
  {
   "cell_type": "code",
   "execution_count": 14,
   "metadata": {},
   "outputs": [],
   "source": [
    "model.save(\"word2vec_wear.model\")"
   ]
  },
  {
   "cell_type": "code",
   "execution_count": 15,
   "metadata": {},
   "outputs": [
    {
     "name": "stdout",
     "output_type": "stream",
     "text": [
      "Word2Vec(vocab=699, size=100, alpha=0.03)\n"
     ]
    }
   ],
   "source": [
    "print(model)"
   ]
  },
  {
   "cell_type": "code",
   "execution_count": 16,
   "metadata": {},
   "outputs": [
    {
     "data": {
      "text/plain": [
       "(699, 100)"
      ]
     },
     "execution_count": 16,
     "metadata": {},
     "output_type": "execute_result"
    }
   ],
   "source": [
    "# extract all vectors\n",
    "X = model[model.wv.vocab]\n",
    "X.shape"
   ]
  },
  {
   "cell_type": "code",
   "execution_count": 17,
   "metadata": {},
   "outputs": [
    {
     "data": {
      "text/plain": [
       "(39989,)"
      ]
     },
     "execution_count": 17,
     "metadata": {},
     "output_type": "execute_result"
    }
   ],
   "source": [
    "#remove duplicates\n",
    "outfit_Url=train_df['outfit_Url']\n",
    "outfit_Url.drop_duplicates(inplace=True, keep=\"last\")\n",
    "outfit_Url.shape"
   ]
  },
  {
   "cell_type": "code",
   "execution_count": 18,
   "metadata": {},
   "outputs": [],
   "source": [
    "# create product-ID and product-description dictionary\n",
    "outfit_info = train_df[[\"outfit_Item\", \"outfit_Url\",\"outfit_Like_adjust\",\"outfit_Season\",\"outfit_Bodypart\"]]\n",
    "outfit_info.sort_values(by=['outfit_Like_adjust'], inplace=True,ascending=False)\n",
    "outfit_dict = outfit_info.groupby(['outfit_Season','outfit_Item'])['outfit_Url'].apply(list).to_dict()"
   ]
  },
  {
   "cell_type": "code",
   "execution_count": 19,
   "metadata": {},
   "outputs": [],
   "source": [
    "# Make an Recommendatin for most similar goods \n",
    "def similar_products(season,v, n = 4):\n",
    "    m =  model.similar_by_vector(v, topn= 4)[0]\n",
    "    m_recommend_outfitUrl=(m[0],outfit_dict[season,m[0]][:3] , m[1])\n",
    "    \n",
    "    # extract most similar products for the input vector\n",
    "    ms = model.similar_by_vector(v, topn= 10)[1:]\n",
    "    ms_recommend_outfitUrl = []\n",
    "    for j in ms:   \n",
    "        try:\n",
    "            pair = (j[0],outfit_dict[season,j[0]][:3] , j[1])\n",
    "            ms_recommend_outfitUrl.append(pair)\n",
    "        except:\n",
    "            continue\n",
    "    return m_recommend_outfitUrl, ms_recommend_outfitUrl"
   ]
  },
  {
   "cell_type": "code",
   "execution_count": 20,
   "metadata": {},
   "outputs": [
    {
     "data": {
      "text/plain": [
       "(('米色休閒長褲',\n",
       "  ['https://wear.tw/vivacematsu/18178920/',\n",
       "   'https://wear.tw/vivacematsu/18314541/',\n",
       "   'https://wear.tw/vivacematsu/18350051/'],\n",
       "  1.0),\n",
       " [('棕色休閒長褲',\n",
       "   ['https://wear.tw/byunxbyun/16020845/',\n",
       "    'https://wear.tw/byunxbyun/18200612/',\n",
       "    'https://wear.tw/howellmhl/18447742/'],\n",
       "   0.7037085294723511),\n",
       "  ('藍色牛仔褲',\n",
       "   ['https://wear.tw/taisei0405/16027046/',\n",
       "    'https://wear.tw/1228masa/18324379/',\n",
       "    'https://wear.tw/hellokeisuk/16288629/'],\n",
       "   0.6776266098022461),\n",
       "  ('銀色手提包', ['https://wear.tw/highflyace/11667505/'], 0.604658842086792),\n",
       "  ('灰色休閒長褲',\n",
       "   ['https://wear.tw/mrszk/13984673/',\n",
       "    'https://wear.tw/cqn15bb/15985503/',\n",
       "    'https://wear.tw/lsp2015/18328355/'],\n",
       "   0.6037817001342773),\n",
       "  ('綠色休閒短褲',\n",
       "   ['https://wear.tw/naruyuu/16076396/',\n",
       "    'https://wear.tw/ninnosuke/18315567/',\n",
       "    'https://wear.tw/repopoo/16112456/'],\n",
       "   0.5885773301124573),\n",
       "  ('藍色西裝褲',\n",
       "   ['https://wear.tw/97_tanaka/18201473/',\n",
       "    'https://wear.tw/ultrabra1n/15975791/'],\n",
       "   0.5803819894790649),\n",
       "  ('白色休閒長褲',\n",
       "   ['https://wear.tw/vivacematsu/18314659/',\n",
       "    'https://wear.tw/yoshiojazzmaster/16257664/',\n",
       "    'https://wear.tw/taisei1022/11773101/'],\n",
       "   0.5597621202468872)])"
      ]
     },
     "execution_count": 20,
     "metadata": {},
     "output_type": "execute_result"
    }
   ],
   "source": [
    "similar_products('winter',model['米色休閒長褲'])"
   ]
  },
  {
   "cell_type": "code",
   "execution_count": 21,
   "metadata": {},
   "outputs": [],
   "source": [
    "# Make an Recommendatin for fashion ensemble\n",
    "def similar_products_byitem(season,v, n = 4):\n",
    "    m =  model.similar_by_vector(v, topn= 4)[0]\n",
    "    m_recommend_outfitUrl=(m[0],outfit_dict[season,m[0]][:3] , m[1])\n",
    "    \n",
    "    # extract most similar products for the input vector\n",
    "    ms = model.similar_by_vector(v, topn= 100)[1:]\n",
    "    ms_recommend_outfitUrl = []\n",
    "    for j in ms:\n",
    "        if outfit_info['outfit_Bodypart'][outfit_info['outfit_Item']==m[0]].values[0]=='top':\n",
    "            if outfit_info['outfit_Bodypart'][outfit_info['outfit_Item']==j[0]].values[0] \\\n",
    "            in ['outerear','buttom']:\n",
    "                try:\n",
    "                    pair = (j[0],outfit_dict['summer',j[0]][:3] , j[1])\n",
    "                    ms_recommend_outfitUrl.append(pair)\n",
    "                except:\n",
    "                    continue\n",
    "        elif outfit_info['outfit_Bodypart'][outfit_info['outfit_Item']==m[0]].values[0]=='buttom':\n",
    "            if outfit_info['outfit_Bodypart'][outfit_info['outfit_Item']==j[0]].values[0] \\\n",
    "            in ['top','outerwear']:\n",
    "                try:\n",
    "                    pair = (j[0],outfit_dict['summer',j[0]][:3] , j[1])\n",
    "                    ms_recommend_outfitUrl.append(pair)\n",
    "                except:\n",
    "                    continue\n",
    "        elif outfit_info['outfit_Bodypart'][outfit_info['outfit_Item']==m[0]].values[0]=='outerwear':\n",
    "            if outfit_info['outfit_Bodypart'][outfit_info['outfit_Item']==j[0]].values[0] \\\n",
    "            in ['top','buttom','dress']:\n",
    "                try:\n",
    "                    pair = (j[0],outfit_dict['summer',j[0]][:3] , j[1])\n",
    "                    ms_recommend_outfitUrl.append(pair)\n",
    "                except:\n",
    "                    continue\n",
    "        elif outfit_info['outfit_Bodypart'][outfit_info['outfit_Item']==m[0]].values[0]=='dress':\n",
    "            if outfit_info['outfit_Bodypart'][outfit_info['outfit_Item']==j[0]].values[0] \\\n",
    "            in ['outerwear']:\n",
    "                try:\n",
    "                    pair = (j[0],outfit_dict['summer',j[0]][:3] , j[1])\n",
    "                    ms_recommend_outfitUrl.append(pair)   \n",
    "                except:\n",
    "                    continue\n",
    "    return m_recommend_outfitUrl, ms_recommend_outfitUrl"
   ]
  },
  {
   "cell_type": "code",
   "execution_count": 22,
   "metadata": {},
   "outputs": [
    {
     "data": {
      "text/plain": [
       "(('白色褲裝',\n",
       "  ['https://wear.tw/1228masa/17235257/',\n",
       "   'https://wear.tw/takeuma45/17031568/',\n",
       "   'https://wear.tw/hellokeisuk/16965707/'],\n",
       "  1.0),\n",
       " [('白色休閒西裝',\n",
       "   ['https://wear.tw/genji/17514622/',\n",
       "    'https://wear.tw/motoharumori1211/17431356/',\n",
       "    'https://wear.tw/90u10/4501597/'],\n",
       "   0.5832391977310181),\n",
       "  ('白色連體套裝',\n",
       "   ['https://wear.tw/byunxbyun/17159036/',\n",
       "    'https://wear.tw/byunxbyun/17536582/',\n",
       "    'https://wear.tw/byunxbyun/17240481/'],\n",
       "   0.5149715542793274)])"
      ]
     },
     "execution_count": 22,
     "metadata": {},
     "output_type": "execute_result"
    }
   ],
   "source": [
    "similar_products_byitem('summer',model['白色褲裝'])"
   ]
  },
  {
   "cell_type": "code",
   "execution_count": 23,
   "metadata": {},
   "outputs": [],
   "source": [
    "#Make an Recommendatin for fashion ensemble(Accessory)\n",
    "def similar_products_byitem_acc(season,v, n = 4):\n",
    "    m =  model.similar_by_vector(v, topn= 4)[0]\n",
    "    m_recommend_outfitUrl=(m[0],outfit_dict[season,m[0]][:3] , m[1])\n",
    "    \n",
    "    # extract most similar products for the input vector, topn=向量最相似的前幾名\n",
    "    ms = model.similar_by_vector(v, topn= 50)[1:]\n",
    "    ms_recommend_outfitUrl = []\n",
    "    for j in ms:\n",
    "        if outfit_info['outfit_Bodypart'][outfit_info['outfit_Item']==m[0]].values[0]=='top':\n",
    "            if outfit_info['outfit_Bodypart'][outfit_info['outfit_Item']==j[0]].values[0] \\\n",
    "            in ['outerear','buttom','acc']:\n",
    "                try:\n",
    "                    pair = (j[0],outfit_dict['summer',j[0]][:3] , j[1])\n",
    "                    ms_recommend_outfitUrl.append(pair)\n",
    "                except:\n",
    "                    continue\n",
    "        elif outfit_info['outfit_Bodypart'][outfit_info['outfit_Item']==m[0]].values[0]=='buttom':\n",
    "            if outfit_info['outfit_Bodypart'][outfit_info['outfit_Item']==j[0]].values[0] \\\n",
    "            in ['top','outerwear','acc']:\n",
    "                try:\n",
    "                    pair = (j[0],outfit_dict['summer',j[0]][:3] , j[1])\n",
    "                    ms_recommend_outfitUrl.append(pair)\n",
    "                except:\n",
    "                    continue\n",
    "        elif outfit_info['outfit_Bodypart'][outfit_info['outfit_Item']==m[0]].values[0]=='outerwear':\n",
    "            if outfit_info['outfit_Bodypart'][outfit_info['outfit_Item']==j[0]].values[0] \\\n",
    "            in ['top','buttom','dress','acc']:\n",
    "                try:\n",
    "                    pair = (j[0],outfit_dict['summer',j[0]][:3] , j[1])\n",
    "                    ms_recommend_outfitUrl.append(pair)\n",
    "                except:\n",
    "                    continue\n",
    "        elif outfit_info['outfit_Bodypart'][outfit_info['outfit_Item']==m[0]].values[0]=='dress':\n",
    "            if outfit_info['outfit_Bodypart'][outfit_info['outfit_Item']==j[0]].values[0] \\\n",
    "            in ['outerwear','acc']:\n",
    "                try:\n",
    "                    pair = (j[0],outfit_dict['summer',j[0]][:3] , j[1])\n",
    "                    ms_recommend_outfitUrl.append(pair)   \n",
    "                except:\n",
    "                    continue\n",
    "    return m_recommend_outfitUrl, ms_recommend_outfitUrl"
   ]
  },
  {
   "cell_type": "code",
   "execution_count": 24,
   "metadata": {},
   "outputs": [
    {
     "data": {
      "text/plain": [
       "(('白色褲裝',\n",
       "  ['https://wear.tw/1228masa/17235257/',\n",
       "   'https://wear.tw/takeuma45/17031568/',\n",
       "   'https://wear.tw/hellokeisuk/16965707/'],\n",
       "  1.0),\n",
       " [('棕色首飾',\n",
       "   ['https://wear.tw/yugowear11/17378649/',\n",
       "    'https://wear.tw/yugowear11/17374426/',\n",
       "    'https://wear.tw/yugowear11/17352600/'],\n",
       "   0.6247581839561462),\n",
       "  ('銀色胸針/胸花', ['https://wear.tw/zizz/17333743/'], 0.6238014698028564),\n",
       "  ('藍色環保袋',\n",
       "   ['https://wear.tw/yugowear11/17182510/',\n",
       "    'https://wear.tw/yugowear11/17230431/',\n",
       "    'https://wear.tw/yugowear11/17276199/'],\n",
       "   0.6223949790000916),\n",
       "  ('棕色時尚配件',\n",
       "   ['https://wear.tw/sensenakajima/17267864/',\n",
       "    'https://wear.tw/sensenakajima/17382171/',\n",
       "    'https://wear.tw/sensenakajima/17261631/'],\n",
       "   0.6052163243293762),\n",
       "  ('棕色寬邊帽',\n",
       "   ['https://wear.tw/zizz/17119200/', 'https://wear.tw/zizz/16989197/'],\n",
       "   0.6013150215148926),\n",
       "  ('黃色方巾',\n",
       "   ['https://wear.tw/repopoo/15044152/', 'https://wear.tw/repopoo/15079594/'],\n",
       "   0.5974345207214355),\n",
       "  ('藍色時尚配件',\n",
       "   ['https://wear.tw/matuni/15058042/',\n",
       "    'https://wear.tw/byunxbyun/17183172/',\n",
       "    'https://wear.tw/byunxbyun/17201418/'],\n",
       "   0.5961388349533081),\n",
       "  ('米色鑰匙包/鑰匙飾品', ['https://wear.tw/genji/15183143/'], 0.5953444838523865),\n",
       "  ('藍色鑰匙包/鑰匙飾品',\n",
       "   ['https://wear.tw/yasoyaso531/17001965/',\n",
       "    'https://wear.tw/yasoyaso531/16993661/',\n",
       "    'https://wear.tw/yasoyaso531/17232348/'],\n",
       "   0.5882980227470398),\n",
       "  ('灰色環保袋',\n",
       "   ['https://wear.tw/yoshiojazzmaster/17360277/',\n",
       "    'https://wear.tw/yugowear11/17081685/'],\n",
       "   0.5852624177932739),\n",
       "  ('米色零錢包', ['https://wear.tw/fukiharu0804/15161749/'], 0.5834039449691772),\n",
       "  ('白色休閒西裝',\n",
       "   ['https://wear.tw/genji/17514622/',\n",
       "    'https://wear.tw/motoharumori1211/17431356/',\n",
       "    'https://wear.tw/90u10/4501597/'],\n",
       "   0.5832391977310181),\n",
       "  ('米色西裝外套', ['https://wear.tw/zizz/7175239/'], 0.5793706178665161),\n",
       "  ('米色包',\n",
       "   ['https://wear.tw/sensenakajima/17468476/',\n",
       "    'https://wear.tw/naruyuu/16979429/',\n",
       "    'https://wear.tw/sensenakajima/17468475/'],\n",
       "   0.5784871578216553),\n",
       "  ('粉色太陽鏡',\n",
       "   ['https://wear.tw/1keino/17038849/',\n",
       "    'https://wear.tw/90u10/12895648/',\n",
       "    'https://wear.tw/90u10/4522375/'],\n",
       "   0.5580695867538452),\n",
       "  ('白色方巾',\n",
       "   ['https://wear.tw/crewtiger/17061104/',\n",
       "    'https://wear.tw/crewtiger/17076981/',\n",
       "    'https://wear.tw/crewtiger/17047641/'],\n",
       "   0.5572776198387146),\n",
       "  ('棕色領帶', ['https://wear.tw/yukiskuma/17176743/'], 0.5491192936897278),\n",
       "  ('棕色背包',\n",
       "   ['https://wear.tw/syun0809/17256128/',\n",
       "    'https://wear.tw/syun0809/17498148/',\n",
       "    'https://wear.tw/makisato/16933663/'],\n",
       "   0.5484074354171753),\n",
       "  ('綠色郵差包', ['https://wear.tw/nozopon1004/17055059/'], 0.5458184480667114),\n",
       "  ('紅色手提包',\n",
       "   ['https://wear.tw/naruyuu/17446273/',\n",
       "    'https://wear.tw/naruyuu/17530970/',\n",
       "    'https://wear.tw/naruyuu/17474160/'],\n",
       "   0.5458172559738159)])"
      ]
     },
     "execution_count": 24,
     "metadata": {},
     "output_type": "execute_result"
    }
   ],
   "source": [
    "similar_products_byitem_acc('summer',model['白色褲裝'])"
   ]
  }
 ],
 "metadata": {
  "kernelspec": {
   "display_name": "Python 3",
   "language": "python",
   "name": "python3"
  },
  "language_info": {
   "codemirror_mode": {
    "name": "ipython",
    "version": 3
   },
   "file_extension": ".py",
   "mimetype": "text/x-python",
   "name": "python",
   "nbconvert_exporter": "python",
   "pygments_lexer": "ipython3",
   "version": "3.8.5"
  }
 },
 "nbformat": 4,
 "nbformat_minor": 4
}
