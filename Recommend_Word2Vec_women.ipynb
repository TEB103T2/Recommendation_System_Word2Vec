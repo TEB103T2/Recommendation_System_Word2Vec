{
 "cells": [
  {
   "cell_type": "code",
   "execution_count": 1,
   "metadata": {},
   "outputs": [],
   "source": [
    "import pandas as pd\n",
    "import numpy as np\n",
    "import random\n",
    "from tqdm import tqdm\n",
    "from gensim.models import Word2Vec \n",
    "import matplotlib.pyplot as plt\n",
    "%matplotlib inline\n",
    "\n",
    "import warnings;\n",
    "warnings.filterwarnings('ignore')"
   ]
  },
  {
   "cell_type": "code",
   "execution_count": 2,
   "metadata": {},
   "outputs": [],
   "source": [
    "df = pd.read_csv('./fashion_wear.csv')"
   ]
  },
  {
   "cell_type": "code",
   "execution_count": 3,
   "metadata": {},
   "outputs": [
    {
     "data": {
      "text/html": [
       "<div>\n",
       "<style scoped>\n",
       "    .dataframe tbody tr th:only-of-type {\n",
       "        vertical-align: middle;\n",
       "    }\n",
       "\n",
       "    .dataframe tbody tr th {\n",
       "        vertical-align: top;\n",
       "    }\n",
       "\n",
       "    .dataframe thead th {\n",
       "        text-align: right;\n",
       "    }\n",
       "</style>\n",
       "<table border=\"1\" class=\"dataframe\">\n",
       "  <thead>\n",
       "    <tr style=\"text-align: right;\">\n",
       "      <th></th>\n",
       "      <th>Unnamed: 0</th>\n",
       "      <th>user_ID</th>\n",
       "      <th>user_Fans</th>\n",
       "      <th>outfit_ID</th>\n",
       "      <th>outfit_Url</th>\n",
       "      <th>outfit_Like</th>\n",
       "      <th>outfit_Like_adjust</th>\n",
       "      <th>outfit_Update</th>\n",
       "      <th>outfit_Season</th>\n",
       "      <th>color</th>\n",
       "      <th>outfit_Bodypart</th>\n",
       "      <th>outfit_Itemgroup</th>\n",
       "      <th>outfit_Item</th>\n",
       "    </tr>\n",
       "  </thead>\n",
       "  <tbody>\n",
       "    <tr>\n",
       "      <th>0</th>\n",
       "      <td>0</td>\n",
       "      <td>ass03</td>\n",
       "      <td>170570</td>\n",
       "      <td>18406885</td>\n",
       "      <td>https://wear.tw/ass03/18406885/</td>\n",
       "      <td>277</td>\n",
       "      <td>277.0</td>\n",
       "      <td>2021-01-03</td>\n",
       "      <td>winter</td>\n",
       "      <td>白色</td>\n",
       "      <td>outerwear</td>\n",
       "      <td>夾克／外套</td>\n",
       "      <td>白色西裝大衣</td>\n",
       "    </tr>\n",
       "    <tr>\n",
       "      <th>1</th>\n",
       "      <td>1</td>\n",
       "      <td>ass03</td>\n",
       "      <td>170570</td>\n",
       "      <td>18406885</td>\n",
       "      <td>https://wear.tw/ass03/18406885/</td>\n",
       "      <td>277</td>\n",
       "      <td>277.0</td>\n",
       "      <td>2021-01-03</td>\n",
       "      <td>winter</td>\n",
       "      <td>粉色</td>\n",
       "      <td>acc</td>\n",
       "      <td>時尚配件</td>\n",
       "      <td>粉色圍巾</td>\n",
       "    </tr>\n",
       "    <tr>\n",
       "      <th>2</th>\n",
       "      <td>2</td>\n",
       "      <td>ass03</td>\n",
       "      <td>170570</td>\n",
       "      <td>18406885</td>\n",
       "      <td>https://wear.tw/ass03/18406885/</td>\n",
       "      <td>277</td>\n",
       "      <td>277.0</td>\n",
       "      <td>2021-01-03</td>\n",
       "      <td>winter</td>\n",
       "      <td>黑色</td>\n",
       "      <td>acc</td>\n",
       "      <td>包</td>\n",
       "      <td>黑色包</td>\n",
       "    </tr>\n",
       "    <tr>\n",
       "      <th>3</th>\n",
       "      <td>3</td>\n",
       "      <td>ass03</td>\n",
       "      <td>170570</td>\n",
       "      <td>18406885</td>\n",
       "      <td>https://wear.tw/ass03/18406885/</td>\n",
       "      <td>277</td>\n",
       "      <td>277.0</td>\n",
       "      <td>2021-01-03</td>\n",
       "      <td>winter</td>\n",
       "      <td>黑色</td>\n",
       "      <td>acc</td>\n",
       "      <td>鞋子</td>\n",
       "      <td>黑色靴子</td>\n",
       "    </tr>\n",
       "    <tr>\n",
       "      <th>4</th>\n",
       "      <td>4</td>\n",
       "      <td>ass03</td>\n",
       "      <td>170570</td>\n",
       "      <td>18395363</td>\n",
       "      <td>https://wear.tw/ass03/18395363/</td>\n",
       "      <td>282</td>\n",
       "      <td>282.0</td>\n",
       "      <td>2020-12-31</td>\n",
       "      <td>winter</td>\n",
       "      <td>綠色</td>\n",
       "      <td>outerwear</td>\n",
       "      <td>夾克／外套</td>\n",
       "      <td>綠色夾克／外套</td>\n",
       "    </tr>\n",
       "  </tbody>\n",
       "</table>\n",
       "</div>"
      ],
      "text/plain": [
       "   Unnamed: 0 user_ID  user_Fans  outfit_ID                       outfit_Url  \\\n",
       "0           0   ass03     170570   18406885  https://wear.tw/ass03/18406885/   \n",
       "1           1   ass03     170570   18406885  https://wear.tw/ass03/18406885/   \n",
       "2           2   ass03     170570   18406885  https://wear.tw/ass03/18406885/   \n",
       "3           3   ass03     170570   18406885  https://wear.tw/ass03/18406885/   \n",
       "4           4   ass03     170570   18395363  https://wear.tw/ass03/18395363/   \n",
       "\n",
       "   outfit_Like  outfit_Like_adjust outfit_Update outfit_Season color  \\\n",
       "0          277               277.0    2021-01-03        winter    白色   \n",
       "1          277               277.0    2021-01-03        winter    粉色   \n",
       "2          277               277.0    2021-01-03        winter    黑色   \n",
       "3          277               277.0    2021-01-03        winter    黑色   \n",
       "4          282               282.0    2020-12-31        winter    綠色   \n",
       "\n",
       "  outfit_Bodypart outfit_Itemgroup outfit_Item  \n",
       "0       outerwear            夾克／外套      白色西裝大衣  \n",
       "1             acc             時尚配件        粉色圍巾  \n",
       "2             acc                包         黑色包  \n",
       "3             acc               鞋子        黑色靴子  \n",
       "4       outerwear            夾克／外套     綠色夾克／外套  "
      ]
     },
     "execution_count": 3,
     "metadata": {},
     "output_type": "execute_result"
    }
   ],
   "source": [
    "df.head()"
   ]
  },
  {
   "cell_type": "code",
   "execution_count": 4,
   "metadata": {},
   "outputs": [
    {
     "data": {
      "text/plain": [
       "(345511, 13)"
      ]
     },
     "execution_count": 4,
     "metadata": {},
     "output_type": "execute_result"
    }
   ],
   "source": [
    "df.shape"
   ]
  },
  {
   "cell_type": "code",
   "execution_count": 5,
   "metadata": {},
   "outputs": [
    {
     "data": {
      "text/plain": [
       "Unnamed: 0                0\n",
       "user_ID                   0\n",
       "user_Fans                 0\n",
       "outfit_ID                 0\n",
       "outfit_Url                0\n",
       "outfit_Like               0\n",
       "outfit_Like_adjust        0\n",
       "outfit_Update             0\n",
       "outfit_Season             0\n",
       "color                 12730\n",
       "outfit_Bodypart           0\n",
       "outfit_Itemgroup          0\n",
       "outfit_Item              11\n",
       "dtype: int64"
      ]
     },
     "execution_count": 5,
     "metadata": {},
     "output_type": "execute_result"
    }
   ],
   "source": [
    "#check null value\n",
    "df.isnull().sum()"
   ]
  },
  {
   "cell_type": "code",
   "execution_count": 6,
   "metadata": {},
   "outputs": [
    {
     "data": {
      "text/plain": [
       "Unnamed: 0            0\n",
       "user_ID               0\n",
       "user_Fans             0\n",
       "outfit_ID             0\n",
       "outfit_Url            0\n",
       "outfit_Like           0\n",
       "outfit_Like_adjust    0\n",
       "outfit_Update         0\n",
       "outfit_Season         0\n",
       "color                 0\n",
       "outfit_Bodypart       0\n",
       "outfit_Itemgroup      0\n",
       "outfit_Item           0\n",
       "dtype: int64"
      ]
     },
     "execution_count": 6,
     "metadata": {},
     "output_type": "execute_result"
    }
   ],
   "source": [
    "df.dropna(axis = 0, how ='any',inplace=True) \n",
    "df.isnull().sum()"
   ]
  },
  {
   "cell_type": "code",
   "execution_count": 7,
   "metadata": {},
   "outputs": [
    {
     "data": {
      "text/plain": [
       "(332781, 13)"
      ]
     },
     "execution_count": 7,
     "metadata": {},
     "output_type": "execute_result"
    }
   ],
   "source": [
    "df.shape"
   ]
  },
  {
   "cell_type": "code",
   "execution_count": 8,
   "metadata": {},
   "outputs": [
    {
     "data": {
      "text/plain": [
       "99"
      ]
     },
     "execution_count": 8,
     "metadata": {},
     "output_type": "execute_result"
    }
   ],
   "source": [
    "users = df[\"user_ID\"].unique().tolist()\n",
    "len(users)"
   ]
  },
  {
   "cell_type": "code",
   "execution_count": 9,
   "metadata": {},
   "outputs": [
    {
     "name": "stdout",
     "output_type": "stream",
     "text": [
      "['ass03', 'miyoshi0511', 'takahashiai', 'saesan1201', 'choco24', 'moken', 'lily02tbt', '34cm', 'moimaru6', 'suzuchan1206', 'unitarosu9876', 'harupi1230', 'pageboy_hinechi', 'haushinka71', 'fwafwa7', 'mariko0121', 'akari0302', 'chicchimo5', 'mitsueri', 'riho0914', 'aobaeru', 'maamin0922', 'natsu0315', 'yuriaaa5', 'jeaaami', 'taroumaru41', 'marumaru1530', 'shino1226', 'yunpi', '2007330', 'mari0109', 'na56482n', 'nananeayane', '61x35', 'zipumi', 'xxyukie522xx', 'enosaya', 'mhpht555', 'sanki0102', 'cloud9nail', 'mii207', '0510a', 'yoahiru35', 'a03man', 'kooooomi64', 'tera1008', 'jinjin1018', 'nanamiii11', 'poconyanco', 'an3chan', 'sonomi0610', 'imoko30', 'pjtamug', '0627himari', 'yukieiura2015', 'kanoco', 'pyon94', 'ys17', '12chi24', 'lvexxxx', 'cozue52', '0202hn', '38hnt', 'miniwen311', 'rinaty1', 'murasesae', 'ayuaum', 'eerrkkk', 'cotara7', 'chorochoro10', 'kco3211', 'mefil', 'unakmkmay', '3186mm', 'carmen1505', 'ayacyocopiiiman', 'aaaannnn0726', 'mmmmmtmt', 'aya35s', 'uethrnrk', 'merorem18', 'arinko0826', 'dossii', 'tomoka0125', 'kazumi0728', 'tsugurenadesu', 'chiekato', 'namigreen', 'welina0620', 'yamashiro3', 'ninomasa', 'nicodakedonohana', 'muratarinko', 'komakixx317', 'ydot426', 'haruxchi', 'yuumi557188', 'maarimo196', 'keiru2000']\n"
     ]
    }
   ],
   "source": [
    "print(users)"
   ]
  },
  {
   "cell_type": "code",
   "execution_count": 10,
   "metadata": {},
   "outputs": [],
   "source": [
    "df['outfit_Item']= df['outfit_Item'].astype(str)"
   ]
  },
  {
   "cell_type": "code",
   "execution_count": 11,
   "metadata": {},
   "outputs": [],
   "source": [
    "#split data into train and validation dataset according to the upload dataset(history) for each model\n",
    "random.shuffle(users)\n",
    "users_train = [users[i] for i in range(round(0.8*len(users)))] \n",
    "train_df = df[df['user_ID'].isin(users_train)]\n",
    "validation_df = df[~df['user_ID'].isin(users_train)]"
   ]
  },
  {
   "cell_type": "code",
   "execution_count": 12,
   "metadata": {},
   "outputs": [
    {
     "name": "stderr",
     "output_type": "stream",
     "text": [
      "100%|██████████| 99/99 [00:01<00:00, 59.75it/s]"
     ]
    },
    {
     "name": "stdout",
     "output_type": "stream",
     "text": [
      "['白色連帽外套', '棕色插肩外套', '黑色靴子', '白色連帽外套', '黑色靴子', '藍色運動衫', '綠色褲裝', '黑色靴子', '白色針織衫', '白色針織衫', '米色插肩外套', '黑色靴子', '白色針織衫', '黑色褲裝', '黑色靴子', '灰色襯衫', '灰色短外套', '黑色靴子', '黑色針織衫', '棕色短外套', '棕色褲裝', '米色短外套', '白色針織衫', '黑色褲裝', '黑色靴子', '黑色針織衫', '米色短外套', '白色T恤', '棕色褲裝', '藍色襯衫', '黑色靴子', '藍色襯衫', '黑色短外套', '黑色靴子', '紅色襯衫', '黑色靴子', '紅色襯衫', '棕色短外套', '黑色靴子', '灰色襯衫', '黑色靴子', '米色運動衫', '米色褲裝', '黑色靴子', '米色運動衫', '米色短外套', '黑色靴子', '米色褲裝', '棕色短外套', '藍色針織衫', '棕色褲裝', '黑色靴子', '米色褲裝', '白色針織衫', '黑色靴子', '米色短外套', '黑色靴子', '米色褲裝', '藍色針織衫', '綠色羽絨衣/大衣', '棕色褲裝', '黑色靴子', '黑色褲裝', '棕色針織衫', '黑色靴子', '白色T恤', '黑色褲裝', '黑色靴子', '黑色T恤', '黑色褲裝', '黑色靴子', '黑色西裝大衣', '黑色褲裝', '黑色靴子', '黑色T恤', '白色T恤', '黑色褲裝', '黑色靴子', '棕色西裝大衣', '白色運動衫', '黑色褲裝', '黑色靴子', '黑色短外套', '白色運動衫', '黑色褲裝', '黑色靴子', '紫色針織衫', '黑色靴子', '黑色襯衫', '黑色靴子', '黑色插肩外套', '米色T恤', '藍色褲裝', '黑色靴子', '藍色褲裝', '米色T恤', '黑色靴子', '黑色褲裝', '黑色靴子', '白色羽絨衣/大衣', '黑色褲裝', '米色插肩外套', '黑色靴子', '黑色靴子', '黑色針織衫', '黑色襯衫', '紫色針織衫', '黑色羽絨衣/大衣', '黑色靴子', '黑色短外套', '黑色褲裝', '黑色靴子', '銀色項鏈', '白色褲裝', '白色襯衫', '黑色靴子', '棕色短外套', '黑色襯衫', '黑色針織衫', '黑色靴子', '米色短外套', '白色連帽外套', '黑色靴子', '黑色靴子', '黑色插肩外套', '米色T恤', '藍色褲裝', '米色T恤', '藍色短外套', '藍色褲裝', '黑色靴子', '白色連帽外套', '黑色靴子', '黑色靴子', '黑色針織衫', '灰色褲裝', '黑色短外套', '白色褲裝', '黑色靴子', '米色針織衫', '黑色靴子', '黑色單肩包', '藍色短外套', '米色針織衫', '白色褲裝', '黑色褲裝', '黑色針織衫', '黑色靴子', '黑色短外套', '灰色褲裝', '白色短外套', '灰色褲裝', '白色襯衫', '白色褲裝', '黑色T恤', '黑色靴子', '黃色襯衫', '白色襯衫', '白色褲裝', '黑色T恤', '黑色單肩包', '黑色靴子', '紅色褲裝', '米色短外套', '黑色靴子', '黑色T恤', '紅色褲裝', '黑色短外套', '黑色靴子', '紅色短外套', '紅色褲裝', '黑色靴子', '棕色短外套', '棕色褲裝', '黑色靴子', '棕色褲裝', '黑色靴子', '黑色襯衫', '米色連帽外套', '棕色插肩外套', '米色連帽外套', '黑色插肩外套', '黑色襯衫', '黑色靴子', '紅色褲裝', '黑色靴子', '紅色褲裝', '黑色襯衫', '黑色襯衫', '黑色靴子', '紅色襯衫', '紅色褲裝', '黑色T恤', '白色褲裝', '黑色靴子', '黑色T恤', '黑色靴子', '白色襯衫', '白色褲裝', '米色插肩外套', '黑色T恤', '黑色靴子', '白色褲裝', '棕色西裝休閒褲', '白色襯衫', '黑色靴子', '米色襯衫', '棕色西裝休閒褲', '黑色靴子', '黑色西裝休閒褲', '橘色襯衫', '黑色靴子', '白色運動衫', '黑色西裝休閒褲', '黑色靴子', '黑色短外套', '白色運動衫', '黑色西裝休閒褲', '黑色靴子', '粉色襯衫', '棕色西裝休閒褲', '黑色T恤', '棕色西裝休閒褲', '黑色靴子', '黑色短外套', '黑色T恤', '米色西裝休閒褲', '黑色靴子', '黑色T恤', '米色短外套', '米色西裝休閒褲', '黑色靴子', '黑色T恤', '棕色短外套', '棕色西裝休閒褲', '黑色靴子', '白色T恤', '黑色褲裝', '藍色短外套', '黑色褲裝', '白色T恤', '黑色短外套', '黑色褲裝', '紫色T恤', '紫色襯衫', '黑色T恤', '紫色T恤', '黑色褲裝', '黑色襯衫', '藍色褲裝', '黑色靴子', '藍色短外套', '藍色褲裝', '黑色靴子', '黑色T恤', '棕色西裝休閒褲', '棕色皮帶', '黑色T恤', '棕色襯衫', '棕色襯衫', '棕色西裝休閒褲', '黑色靴子', '黑色T恤', '黑色T恤', '米色背心外套', '棕色西裝休閒褲', '黑色褲裝', '白色T恤', '黑色短外套', '黑色涼鞋', '白色T恤', '黑色褲裝', '黑色涼鞋', '白色襯衫', '米色褲裝', '黑色涼鞋', '白色背心外套', '白色襯衫', '米色褲裝', '黑色涼鞋', '灰色襯衫', '黑色褲裝', '黑色涼鞋', '白色T恤', '白色西裝休閒褲', '黑色襯衫', '白色襯衫', '黑色涼鞋', '黑色襯衫', '棕色西裝休閒褲', '白色襯衫', '白色西裝休閒褲', '棕色襯衫', '棕色西裝休閒褲', '藍色襯衫', '白色T恤', '黑色涼鞋', '黑色襯衫', '黑色褲裝', '藍色襯衫', '藍色西裝休閒褲', '黑色涼鞋', '綠色T恤', '黑色西裝休閒褲', '黑色涼鞋', '紫色襯衫', '黑色西裝休閒褲', '灰色襯衫', '白色T恤', '黑色涼鞋', '黑色T恤', '米色褲裝', '白色襯衫', '米色T恤', '棕色西裝休閒褲', '黑色涼鞋', '白色T恤', '黑色褲裝', '黑色涼鞋', '白色襯衫', '黑色涼鞋', '米色襯衫', '米色褲裝', '黑色T恤', '藍色襯衫', '黑色褲裝', '黑色涼鞋', '米色T恤', '棕色西裝休閒褲', '黑色涼鞋', '黑色短外套', '黑色褲裝', '黑色涼鞋', '黑色襯衫', '黑色褲裝', '黑色涼鞋', '白色T恤', '藍色褲裝', '黑色涼鞋', '黑色T恤', '黑色涼鞋', '藍色西裝休閒褲', '紫色襯衫', '黑色T恤', '黑色襯衫', '黑色涼鞋', '白色T恤', '米色褲裝', '黑色襯衫', '黑色涼鞋', '米色襯衫', '黑色褲裝', '黑色涼鞋', '藍色襯衫', '藍色褲裝', '黑色涼鞋', '黑色襯衫', '黑色襯衫', '黑色涼鞋', '棕色褲裝', '棕色短外套', '黑色涼鞋', '白色T恤', '棕色褲裝', '黑色涼鞋', '黑色褲裝', '紫色襯衫', '灰色襯衫', '黑色T恤', '黑色涼鞋', '米色襯衫', '米色褲裝', '黑色襯衫', '黑色褲裝', '紫色T恤', '白色襯衫', '灰色褲裝', '米色短外套', '黑色涼鞋', '黑色短外套', '黑色褲裝', '白色T恤', '白色T恤', '藍色襯衫', '白色T恤', '黑色涼鞋', '黑色涼鞋', '藍色襯衫', '白色襯衫', '黑色涼鞋', '綠色襯衫', '黑色T恤', '灰色褲裝', '米色短外套', '灰色西裝休閒褲', '紫色T恤', '黑色襯衫', '棕色襯衫', '灰色運動衫', '白色襯衫', '藍色褲裝', '黑色單肩包', '藍色短外套', '藍色襯衫', '藍色西裝休閒褲', '灰色襯衫', '白色T恤', '米色背心外套', '白色襯衫', '灰色西裝休閒褲', '綠色T恤', '白色牛仔褲', '白色T恤', '灰色插肩外套', '白色T恤', '黑色襯衫', '藍色褲裝', '米色短外套', '米色褲裝', '黑色襯衫', '藍色牛仔外套', '藍色褲裝', '黑色襯衫', '藍色褲裝', '灰色襯衫', '米色連帽長外套', '黑色襯衫', '藍色褲裝', '藍色T恤', '藍色牛仔褲', '藍色襯衫', '粉色運動衫', '灰色西裝休閒褲', '藍色襯衫', '白色襯衫', '白色褲裝', '紫色運動衫', '黑色短外套', '白色褲裝', '藍色襯衫', '白色襯衫', '黑色襯衫', '米色插肩外套', '藍色襯衫', '藍色褲裝', '黑色T恤', '白色運動衫', '黑色插肩外套', '白色褲裝', '藍色襯衫', '白色T恤', '藍色褲裝', '藍色襯衫', '米色插肩外套', '白色運動衫', '藍色運動衫', '白色襯衫', '黑色T恤', '白色褲裝', '綠色連帽外套', '米色褲裝', '綠色連帽外套', '黑色羽絨衣/大衣', '米色褲裝', '紫色運動衫', '白色羽絨衣/大衣', '紫色運動衫', '黑色T恤', '黑色T恤', '棕色插肩外套', '黑色針織衫', '黑色短外套', '藍色牛仔褲', '米色針織衫', '黑色針織衫', '米色褲裝', '棕色外套', '黑色針織衫', '藍色牛仔褲', '藍色針織衫', '黑色針織衫', '藍色牛仔褲', '藍色針織衫', '藍色短外套', '米色背心外套', '黑色飛行外套', '米色褲裝', '黑色T恤', '米色背心外套', '棕色外套', '米色褲裝', '黑色運動衫', '米色飛行外套', '紫色運動衫', '棕色褲裝', '黑色皮帶', '黑色運動衫', '紫色運動衫', '白色短外套', '棕色褲裝', '米色針織衫', '黑色外套', '棕色褲子', '米色背心外套', '黑色T恤', '米色褲裝', '米色針織衫', '米色針織衫', '棕色褲裝', '米色針織衫', '棕色短外套', '棕色褲裝', '米色針織外套', '米色褲裝', '米色背心外套', '黑色T恤', '米色針織衫', '白色羽絨衣/大衣', '藍色牛仔褲', '黑色針織外套', '藍色針織衫', '藍色針織衫', '黑色外套', '黑色T恤', '紫色夾克／外套', '紫色褲裝', '橘色插肩外套', '黑色運動衫', '黑色運動衫', '米色針織衫', '紫色短外套', '灰色褲裝', '黑色T恤', '藍色短外套', '紫色褲裝', '米色針織衫', '灰色褲裝', '棕色插肩外套', '藍色連帽外套', '藍色飛行外套', '黑色運動衫', '米色休閒西裝', '米色褲裝', '棕色T恤', '綠色運動衫', '黑色休閒西裝', '黑色T恤', '綠色插肩外套', '紫色襯衫', '黑色T恤', '綠色運動衫', '黑色外套', '灰色褲裝', '綠色運動衫', '灰色褲裝', '橘色襯衫', '黑色T恤', '藍色短外套', '米色T恤', '紫色褲裝', '黃色運動衫', '棕色襯衫', '綠色運動衫', '黑色T恤', '綠色襯衫', '黑色襯衫', '綠色褲裝', '黑色T恤', '黑色皮帶', '綠色褲裝', '黑色短外套', '紫色T恤', '紫色襯衫', '黑色T恤', '白色T恤', '棕色襯衫', '棕色襯衫', '白色T恤', '棕色襯衫', '白色T恤', '紫色襯衫', '藍色襯衫', '白色T恤', '黃色襯衫', '米色襯衫', '粉色帽子', '白色運動衫', '黑色腰包', '紫色襯衫', '灰色襯衫', '黑色外套', '紫色針織衫', '藍色針織衫', '黑色腰包', '米色上衣', '黑色外套', '黑色運動衫', '藍色T恤', '藍色T恤', '黑色西裝大衣', '白色運動衫', '白色運動衫', '紅色T恤', '黑色T恤', '紅色襯衫', '黑色皮帶', '紫色T恤', '紅色T恤', '黑色皮帶', '白色襯衫', '黑色皮帶', '白色T恤', '黑色T恤', '黑色皮帶', '白色T恤', '白色T恤', '黑色襯衫', '黑色短外套', '黑色T恤', '黃色皮帶', '米色襯衫', '粉色飛行外套', '綠色針織外套', '米色短外套', '藍色針織衫', '黑色短外套', '灰色褲裝', '粉色上衣', '黑色插肩外套', '灰色褲裝', '藍色運動衫', '灰色褲裝', '白色運動衫', '棕色褲裝', '紅色針織外套', '綠色上衣', '棕色褲子', '黑色靴子', '黑色外套', '黑色靴子', '黑色帽子', '黑色連帽外套', '黑色背包/雙肩背包', '黑色鞋', '黑色貝雷帽', '黑色鞋子', '黑色飛行外套', '黑色鞋子', '米色T恤', '黑色鞋', '黑色背包/雙肩背包', '黑色T恤', '黑色球鞋', '黑色T恤', '黑色鞋', '棕色T恤', '黑色襯衫', '黑色鞋子', '藍色T恤', '黑色背包/雙肩背包', '黑色球鞋', '棕色T恤', '黑色鞋子', '黑色背包/雙肩背包', '綠色T恤', '黑色涼鞋', '黑色手袋', '黑色涼鞋', '藍色襯衫', '黑色涼鞋', '綠色T恤', '黑色涼鞋', '米色T恤', '藍色襯衫', '白色T恤', '藍色T恤', '藍色手提包', '白色T恤', '白色方巾', '白色T恤', '白色帽子', '紅色T恤', '白色手提包', '藍色夾克／外套', '黑色背包/雙肩背包', '米色插肩外套']\n"
     ]
    },
    {
     "name": "stderr",
     "output_type": "stream",
     "text": [
      "\n"
     ]
    }
   ],
   "source": [
    "# list to capture upload history of the users\n",
    "upload_train = []\n",
    "for i in tqdm(users_train):\n",
    "    temp = train_df[train_df[\"user_ID\"] == i][\"outfit_Item\"].tolist()\n",
    "    upload_train.append(temp)\n",
    "print(upload_train[0])"
   ]
  },
  {
   "cell_type": "code",
   "execution_count": 13,
   "metadata": {},
   "outputs": [],
   "source": [
    "upload_val = []\n",
    "for i in tqdm(validation_df['user_ID'].unique()):\n",
    "    temp = validation_df[validation_df[\"user_ID\"] == i][\"outfit_Item\"].tolist()\n",
    "    upload_val.append(temp)"
   ]
  },
  {
   "cell_type": "code",
   "execution_count": 14,
   "metadata": {},
   "outputs": [
    {
     "data": {
      "text/plain": [
       "(2221570, 3327810)"
      ]
     },
     "execution_count": 14,
     "metadata": {},
     "output_type": "execute_result"
    }
   ],
   "source": [
    "# train word2vec model\n",
    "model = Word2Vec(window = 2, sg = 1, hs = 0, #window=2\n",
    "                 negative = 10, # for negative sampling\n",
    "                 alpha=0.03, min_alpha=0.0007,\n",
    "                 seed = 14)\n",
    "\n",
    "model.build_vocab(upload_train, progress_per=200)\n",
    "\n",
    "model.train(upload_train, total_examples = model.corpus_count, \n",
    "            epochs=10, report_delay=1)"
   ]
  },
  {
   "cell_type": "code",
   "execution_count": 15,
   "metadata": {},
   "outputs": [],
   "source": [
    "model.save(\"word2vec_wear.model\")"
   ]
  },
  {
   "cell_type": "code",
   "execution_count": 16,
   "metadata": {},
   "outputs": [
    {
     "name": "stdout",
     "output_type": "stream",
     "text": [
      "Word2Vec(vocab=1089, size=100, alpha=0.03)\n"
     ]
    }
   ],
   "source": [
    "print(model)"
   ]
  },
  {
   "cell_type": "code",
   "execution_count": 17,
   "metadata": {},
   "outputs": [
    {
     "data": {
      "text/plain": [
       "(1089, 100)"
      ]
     },
     "execution_count": 17,
     "metadata": {},
     "output_type": "execute_result"
    }
   ],
   "source": [
    "# extract all vectors\n",
    "X = model[model.wv.vocab]\n",
    "X.shape"
   ]
  },
  {
   "cell_type": "code",
   "execution_count": 20,
   "metadata": {},
   "outputs": [
    {
     "data": {
      "text/plain": [
       "(82324,)"
      ]
     },
     "execution_count": 20,
     "metadata": {},
     "output_type": "execute_result"
    }
   ],
   "source": [
    "#remove duplicates\n",
    "outfit_Url=train_df['outfit_Url']\n",
    "outfit_Url.drop_duplicates(inplace=True, keep=\"last\")\n",
    "outfit_Url.shape"
   ]
  },
  {
   "cell_type": "code",
   "execution_count": 23,
   "metadata": {},
   "outputs": [],
   "source": [
    "# create product-ID and product-description dictionary\n",
    "outfit_info = train_df[[\"outfit_Item\", \"outfit_Url\",\"outfit_Like_adjust\",\"outfit_Season\",\"outfit_Bodypart\"]]\n",
    "outfit_info.sort_values(by=['outfit_Like_adjust'], inplace=True,ascending=False)\n",
    "outfit_dict = outfit_info.groupby(['outfit_Season','outfit_Item'])['outfit_Url'].apply(list).to_dict()"
   ]
  },
  {
   "cell_type": "code",
   "execution_count": 39,
   "metadata": {},
   "outputs": [],
   "source": [
    "# Make an Recommendatin with most similar goods \n",
    "def similar_products(season,v, n = 4):\n",
    "    m =  model.similar_by_vector(v, topn= 4)[0]\n",
    "    m_recommend_outfitUrl=(m[0],outfit_dict[season,m[0]][:3] , m[1])\n",
    "    \n",
    "    # extract most similar products for the input vector\n",
    "    ms = model.similar_by_vector(v, topn= 10)[1:]\n",
    "    ms_recommend_outfitUrl = []\n",
    "    for j in ms:   \n",
    "        try:\n",
    "            pair = (j[0],outfit_dict[season,j[0]][:3] , j[1])\n",
    "            ms_recommend_outfitUrl.append(pair)\n",
    "        except:\n",
    "            continue\n",
    "    return m_recommend_outfitUrl, ms_recommend_outfitUrl"
   ]
  },
  {
   "cell_type": "code",
   "execution_count": 40,
   "metadata": {},
   "outputs": [
    {
     "data": {
      "text/plain": [
       "(('米色休閒長褲',\n",
       "  ['https://wear.tw/maamin0922/18313109/',\n",
       "   'https://wear.tw/ass03/18363523/',\n",
       "   'https://wear.tw/yuumi557188/16211264/'],\n",
       "  1.0),\n",
       " [('藍色休閒長褲',\n",
       "   ['https://wear.tw/yuumi557188/8778822/',\n",
       "    'https://wear.tw/takahashiai/8733349/',\n",
       "    'https://wear.tw/yoahiru35/11613161/'],\n",
       "   0.6507023572921753),\n",
       "  ('米色休閒短褲',\n",
       "   ['https://wear.tw/ayacyocopiiiman/13764468/'],\n",
       "   0.6204767227172852),\n",
       "  ('藍色牛仔褲',\n",
       "   ['https://wear.tw/chicchimo5/16136605/',\n",
       "    'https://wear.tw/unitarosu9876/16036107/',\n",
       "    'https://wear.tw/choco24/9280432/'],\n",
       "   0.6157659292221069),\n",
       "  ('黑色休閒長褲',\n",
       "   ['https://wear.tw/choco24/13993775/',\n",
       "    'https://wear.tw/riho0914/18246076/',\n",
       "    'https://wear.tw/mhpht555/18198087/'],\n",
       "   0.6138306856155396),\n",
       "  ('棕色連體褲/背帶褲',\n",
       "   ['https://wear.tw/unitarosu9876/16174669/',\n",
       "    'https://wear.tw/unitarosu9876/16215954/',\n",
       "    'https://wear.tw/chicchimo5/15822166/'],\n",
       "   0.5919194221496582),\n",
       "  ('綠色牛仔褲',\n",
       "   ['https://wear.tw/enosaya/18280371/',\n",
       "    'https://wear.tw/dossii/18239204/',\n",
       "    'https://wear.tw/0510a/18274027/'],\n",
       "   0.591609001159668)])"
      ]
     },
     "execution_count": 40,
     "metadata": {},
     "output_type": "execute_result"
    }
   ],
   "source": [
    "similar_products('winter',model['米色休閒長褲'])"
   ]
  },
  {
   "cell_type": "code",
   "execution_count": 49,
   "metadata": {},
   "outputs": [],
   "source": [
    "# Make an Recommendatin for fashion ensemble\n",
    "def similar_products_byitem(season,v, n = 4):\n",
    "    m =  model.similar_by_vector(v, topn= 4)[0]\n",
    "    m_recommend_outfitUrl=(m[0],outfit_dict[season,m[0]][:3] , m[1])\n",
    "    \n",
    "    # extract most similar products for the input vector of different product categories\n",
    "    ms = model.similar_by_vector(v, topn= 100)[1:]\n",
    "    ms_recommend_outfitUrl = []\n",
    "    for j in ms:\n",
    "        if outfit_info['outfit_Bodypart'][outfit_info['outfit_Item']==m[0]].values[0]=='top':\n",
    "            if outfit_info['outfit_Bodypart'][outfit_info['outfit_Item']==j[0]].values[0] \\\n",
    "            in ['outerear','buttom']:\n",
    "                try:\n",
    "                    pair = (j[0],outfit_dict['summer',j[0]][:3] , j[1])\n",
    "                    ms_recommend_outfitUrl.append(pair)\n",
    "                except:\n",
    "                    continue\n",
    "        elif outfit_info['outfit_Bodypart'][outfit_info['outfit_Item']==m[0]].values[0]=='buttom':\n",
    "            if outfit_info['outfit_Bodypart'][outfit_info['outfit_Item']==j[0]].values[0] \\\n",
    "            in ['top','outerwear']:\n",
    "                try:\n",
    "                    pair = (j[0],outfit_dict['summer',j[0]][:3] , j[1])\n",
    "                    ms_recommend_outfitUrl.append(pair)\n",
    "                except:\n",
    "                    continue\n",
    "        elif outfit_info['outfit_Bodypart'][outfit_info['outfit_Item']==m[0]].values[0]=='outerwear':\n",
    "            if outfit_info['outfit_Bodypart'][outfit_info['outfit_Item']==j[0]].values[0] \\\n",
    "            in ['top','buttom','dress']:\n",
    "                try:\n",
    "                    pair = (j[0],outfit_dict['summer',j[0]][:3] , j[1])\n",
    "                    ms_recommend_outfitUrl.append(pair)\n",
    "                except:\n",
    "                    continue\n",
    "        elif outfit_info['outfit_Bodypart'][outfit_info['outfit_Item']==m[0]].values[0]=='dress':\n",
    "            if outfit_info['outfit_Bodypart'][outfit_info['outfit_Item']==j[0]].values[0] \\\n",
    "            in ['outerwear']:\n",
    "                try:\n",
    "                    pair = (j[0],outfit_dict['summer',j[0]][:3] , j[1])\n",
    "                    ms_recommend_outfitUrl.append(pair)   \n",
    "                except:\n",
    "                    continue\n",
    "    return m_recommend_outfitUrl, ms_recommend_outfitUrl"
   ]
  },
  {
   "cell_type": "code",
   "execution_count": 50,
   "metadata": {},
   "outputs": [
    {
     "data": {
      "text/plain": [
       "(('白色褲裝',\n",
       "  ['https://wear.tw/yoahiru35/17301668/',\n",
       "   'https://wear.tw/fwafwa7/17455693/',\n",
       "   'https://wear.tw/maarimo196/17383511/'],\n",
       "  1.0),\n",
       " [('黃色背心外套', ['https://wear.tw/maarimo196/17265532/'], 0.595501720905304),\n",
       "  ('橘色套裝',\n",
       "   ['https://wear.tw/ninomasa/17527184/',\n",
       "    'https://wear.tw/ninomasa/17350060/'],\n",
       "   0.5745309591293335),\n",
       "  ('米色披肩',\n",
       "   ['https://wear.tw/carmen1505/15176425/',\n",
       "    'https://wear.tw/carmen1505/14977728/'],\n",
       "   0.5720653533935547),\n",
       "  ('白色套裝',\n",
       "   ['https://wear.tw/chicchimo5/17126803/',\n",
       "    'https://wear.tw/akari0302/17478080/',\n",
       "    'https://wear.tw/chicchimo5/14983703/'],\n",
       "   0.5645591020584106),\n",
       "  ('米色連體套裝',\n",
       "   ['https://wear.tw/sanki0102/17016617/',\n",
       "    'https://wear.tw/cloud9nail/12556345/'],\n",
       "   0.5632511377334595),\n",
       "  ('紅色背心外套',\n",
       "   ['https://wear.tw/yuriaaa5/17367330/',\n",
       "    'https://wear.tw/ninomasa/14956278/'],\n",
       "   0.5563393831253052),\n",
       "  ('米色連帽長外套',\n",
       "   ['https://wear.tw/keiru2000/17477143/',\n",
       "    'https://wear.tw/mii207/17477758/',\n",
       "    'https://wear.tw/harupi1230/13003274/'],\n",
       "   0.5505149364471436),\n",
       "  ('紫色細肩帶背心',\n",
       "   ['https://wear.tw/haruxchi/17176576/',\n",
       "    'https://wear.tw/murasesae/12550946/',\n",
       "    'https://wear.tw/miniwen311/17558427/'],\n",
       "   0.5485215187072754),\n",
       "  ('紫色夾克／外套', ['https://wear.tw/38hnt/14871118/'], 0.5361681580543518),\n",
       "  ('紫色坦克背心',\n",
       "   ['https://wear.tw/unitarosu9876/17444836/',\n",
       "    'https://wear.tw/pageboy_hinechi/17052452/',\n",
       "    'https://wear.tw/imoko30/15109288/'],\n",
       "   0.5339160561561584),\n",
       "  ('白色尼龍夾克', ['https://wear.tw/takahashiai/4293731/'], 0.5309780836105347)])"
      ]
     },
     "execution_count": 50,
     "metadata": {},
     "output_type": "execute_result"
    }
   ],
   "source": [
    "similar_products_byitem('summer',model['白色褲裝'])"
   ]
  },
  {
   "cell_type": "code",
   "execution_count": 41,
   "metadata": {},
   "outputs": [],
   "source": [
    "#Make an Recommendatin for fashion ensemble(Accessory)\n",
    "def similar_products_byitem_acc(season,v, n = 4):\n",
    "    m =  model.similar_by_vector(v, topn= 4)[0]\n",
    "    m_recommend_outfitUrl=(m[0],outfit_dict[season,m[0]][:3] , m[1])\n",
    "    \n",
    "    # extract most similar accessories for the input vector \n",
    "    ms = model.similar_by_vector(v, topn= 50)[1:]\n",
    "    ms_recommend_outfitUrl = []\n",
    "    for j in ms:\n",
    "        if outfit_info['outfit_Bodypart'][outfit_info['outfit_Item']==m[0]].values[0]=='top':\n",
    "            if outfit_info['outfit_Bodypart'][outfit_info['outfit_Item']==j[0]].values[0] \\\n",
    "            in ['outerear','buttom','acc']:\n",
    "                try:\n",
    "                    pair = (j[0],outfit_dict['summer',j[0]][:3] , j[1])\n",
    "                    ms_recommend_outfitUrl.append(pair)\n",
    "                except:\n",
    "                    continue\n",
    "        elif outfit_info['outfit_Bodypart'][outfit_info['outfit_Item']==m[0]].values[0]=='buttom':\n",
    "            if outfit_info['outfit_Bodypart'][outfit_info['outfit_Item']==j[0]].values[0] \\\n",
    "            in ['top','outerwear','acc']:\n",
    "                try:\n",
    "                    pair = (j[0],outfit_dict['summer',j[0]][:3] , j[1])\n",
    "                    ms_recommend_outfitUrl.append(pair)\n",
    "                except:\n",
    "                    continue\n",
    "        elif outfit_info['outfit_Bodypart'][outfit_info['outfit_Item']==m[0]].values[0]=='outerwear':\n",
    "            if outfit_info['outfit_Bodypart'][outfit_info['outfit_Item']==j[0]].values[0] \\\n",
    "            in ['top','buttom','dress','acc']:\n",
    "                try:\n",
    "                    pair = (j[0],outfit_dict['summer',j[0]][:3] , j[1])\n",
    "                    ms_recommend_outfitUrl.append(pair)\n",
    "                except:\n",
    "                    continue\n",
    "        elif outfit_info['outfit_Bodypart'][outfit_info['outfit_Item']==m[0]].values[0]=='dress':\n",
    "            if outfit_info['outfit_Bodypart'][outfit_info['outfit_Item']==j[0]].values[0] \\\n",
    "            in ['outerwear','acc']:\n",
    "                try:\n",
    "                    pair = (j[0],outfit_dict['summer',j[0]][:3] , j[1])\n",
    "                    ms_recommend_outfitUrl.append(pair)   \n",
    "                except:\n",
    "                    continue\n",
    "    return m_recommend_outfitUrl, ms_recommend_outfitUrl"
   ]
  },
  {
   "cell_type": "code",
   "execution_count": 42,
   "metadata": {},
   "outputs": [
    {
     "data": {
      "text/plain": [
       "(('白色褲裝',\n",
       "  ['https://wear.tw/yoahiru35/17301668/',\n",
       "   'https://wear.tw/fwafwa7/17455693/',\n",
       "   'https://wear.tw/maarimo196/17383511/'],\n",
       "  1.0),\n",
       " [('綠色手鏈',\n",
       "   ['https://wear.tw/tomoka0125/14765320/',\n",
       "    'https://wear.tw/tomoka0125/14771087/'],\n",
       "   0.6203427910804749),\n",
       "  ('粉色戒指',\n",
       "   ['https://wear.tw/moimaru6/17148539/',\n",
       "    'https://wear.tw/choco24/7405827/',\n",
       "    'https://wear.tw/unakmkmay/17279229/'],\n",
       "   0.6091607809066772),\n",
       "  ('綠色錢包', ['https://wear.tw/yoahiru35/15127493/'], 0.6048542261123657),\n",
       "  ('黃色背心外套', ['https://wear.tw/maarimo196/17265532/'], 0.595501720905304),\n",
       "  ('橘色手袋',\n",
       "   ['https://wear.tw/0627himari/17000746/',\n",
       "    'https://wear.tw/0627himari/17133203/',\n",
       "    'https://wear.tw/0627himari/17307512/'],\n",
       "   0.5877591371536255),\n",
       "  ('棕色发夹',\n",
       "   ['https://wear.tw/xxyukie522xx/17100979/',\n",
       "    'https://wear.tw/xxyukie522xx/17520767/',\n",
       "    'https://wear.tw/xxyukie522xx/17337942/'],\n",
       "   0.5831711888313293),\n",
       "  ('粉色頭飾',\n",
       "   ['https://wear.tw/moimaru6/17010919/',\n",
       "    'https://wear.tw/yoahiru35/7324441/'],\n",
       "   0.5767948627471924),\n",
       "  ('橘色套裝',\n",
       "   ['https://wear.tw/ninomasa/17527184/',\n",
       "    'https://wear.tw/ninomasa/17350060/'],\n",
       "   0.5745309591293335),\n",
       "  ('米色披肩',\n",
       "   ['https://wear.tw/carmen1505/15176425/',\n",
       "    'https://wear.tw/carmen1505/14977728/'],\n",
       "   0.5720653533935547)])"
      ]
     },
     "execution_count": 42,
     "metadata": {},
     "output_type": "execute_result"
    }
   ],
   "source": [
    "similar_products_byitem_acc('summer',model['白色褲裝'])"
   ]
  }
 ],
 "metadata": {
  "kernelspec": {
   "display_name": "Python 3",
   "language": "python",
   "name": "python3"
  },
  "language_info": {
   "codemirror_mode": {
    "name": "ipython",
    "version": 3
   },
   "file_extension": ".py",
   "mimetype": "text/x-python",
   "name": "python",
   "nbconvert_exporter": "python",
   "pygments_lexer": "ipython3",
   "version": "3.8.5"
  }
 },
 "nbformat": 4,
 "nbformat_minor": 4
}
